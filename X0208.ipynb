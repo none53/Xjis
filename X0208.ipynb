{
 "cells": [
  {
   "cell_type": "code",
   "execution_count": 1,
   "metadata": {},
   "outputs": [],
   "source": [
    "import pandas as pd\n",
    "import numpy as np\n",
    "NaN = np.nan"
   ]
  },
  {
   "cell_type": "code",
   "execution_count": 2,
   "metadata": {},
   "outputs": [
    {
     "name": "stdout",
     "output_type": "stream",
     "text": [
      "<class 'pandas.core.frame.DataFrame'>\n",
      "RangeIndex: 6879 entries, 0 to 6878\n",
      "Data columns (total 4 columns):\n",
      "SJIS       6879 non-null object\n",
      "JIS        6879 non-null object\n",
      "Unicode    6879 non-null object\n",
      "Comment    6879 non-null object\n",
      "dtypes: object(4)\n",
      "memory usage: 215.0+ KB\n"
     ]
    },
    {
     "data": {
      "text/html": [
       "<div>\n",
       "<style scoped>\n",
       "    .dataframe tbody tr th:only-of-type {\n",
       "        vertical-align: middle;\n",
       "    }\n",
       "\n",
       "    .dataframe tbody tr th {\n",
       "        vertical-align: top;\n",
       "    }\n",
       "\n",
       "    .dataframe thead th {\n",
       "        text-align: right;\n",
       "    }\n",
       "</style>\n",
       "<table border=\"1\" class=\"dataframe\">\n",
       "  <thead>\n",
       "    <tr style=\"text-align: right;\">\n",
       "      <th></th>\n",
       "      <th>SJIS</th>\n",
       "      <th>JIS</th>\n",
       "      <th>Unicode</th>\n",
       "      <th>Comment</th>\n",
       "    </tr>\n",
       "  </thead>\n",
       "  <tbody>\n",
       "    <tr>\n",
       "      <th>0</th>\n",
       "      <td>0x8140</td>\n",
       "      <td>0x2121</td>\n",
       "      <td>0x3000</td>\n",
       "      <td># IDEOGRAPHIC SPACE</td>\n",
       "    </tr>\n",
       "    <tr>\n",
       "      <th>1</th>\n",
       "      <td>0x8141</td>\n",
       "      <td>0x2122</td>\n",
       "      <td>0x3001</td>\n",
       "      <td># IDEOGRAPHIC COMMA</td>\n",
       "    </tr>\n",
       "    <tr>\n",
       "      <th>2</th>\n",
       "      <td>0x8142</td>\n",
       "      <td>0x2123</td>\n",
       "      <td>0x3002</td>\n",
       "      <td># IDEOGRAPHIC FULL STOP</td>\n",
       "    </tr>\n",
       "    <tr>\n",
       "      <th>3</th>\n",
       "      <td>0x8143</td>\n",
       "      <td>0x2124</td>\n",
       "      <td>0xFF0C</td>\n",
       "      <td># FULLWIDTH COMMA</td>\n",
       "    </tr>\n",
       "    <tr>\n",
       "      <th>4</th>\n",
       "      <td>0x8144</td>\n",
       "      <td>0x2125</td>\n",
       "      <td>0xFF0E</td>\n",
       "      <td># FULLWIDTH FULL STOP</td>\n",
       "    </tr>\n",
       "  </tbody>\n",
       "</table>\n",
       "</div>"
      ],
      "text/plain": [
       "     SJIS     JIS Unicode                  Comment\n",
       "0  0x8140  0x2121  0x3000      # IDEOGRAPHIC SPACE\n",
       "1  0x8141  0x2122  0x3001      # IDEOGRAPHIC COMMA\n",
       "2  0x8142  0x2123  0x3002  # IDEOGRAPHIC FULL STOP\n",
       "3  0x8143  0x2124  0xFF0C        # FULLWIDTH COMMA\n",
       "4  0x8144  0x2125  0xFF0E    # FULLWIDTH FULL STOP"
      ]
     },
     "execution_count": 2,
     "metadata": {},
     "output_type": "execute_result"
    }
   ],
   "source": [
    "# unicodeの表\n",
    "# http://www.unicode.org/Public/MAPPINGS/OBSOLETE/EASTASIA/JIS/JIS0208.TXT\n",
    "    \n",
    "df = pd.read_csv(\"data/JIS0208-2015-unicode.txt\",\n",
    "                   sep='\\t',\n",
    "                   skiprows=63,\n",
    "                   names=('SJIS', 'JIS', 'Unicode', 'Comment'))\n",
    "df.info()\n",
    "\n",
    "df[0:5]\n"
   ]
  },
  {
   "cell_type": "code",
   "execution_count": 3,
   "metadata": {},
   "outputs": [],
   "source": [
    "def printData(data):\n",
    "    data0 = data[0]\n",
    "    data1 = data[1]\n",
    "    data2 = data[2]\n",
    "    vUniStr = str(data1)\n",
    "    msg = \"class={0} SJIS={1} JIS={2} Unicode={3}\". \\\n",
    "    format(type(vUniStr), data0, data1, data2)\n",
    "    print(msg)"
   ]
  },
  {
   "cell_type": "code",
   "execution_count": 8,
   "metadata": {},
   "outputs": [],
   "source": [
    "#第一水準\n",
    "def isJisDai1Suijun(data):\n",
    "    #print(\"第一水準\")\n",
    "    #print(data)\n",
    "    #vSjisStr = str(data[1][0])\n",
    "    vJisStr = str(data[1][1])\n",
    "    vUniStr = str(data[1][2])\n",
    "    length = len(vUniStr)\n",
    "    if (length != 6):\n",
    "        print(data)\n",
    "        return False\n",
    "    vJisInt = int(vJisStr, 16)\n",
    "    vJisMasked = vJisInt & 0xFF00\n",
    "    if (vJisMasked >= 0x3000):\n",
    "        if (vJisMasked <= 0x4F00):\n",
    "            #print(data)\n",
    "            return True\n",
    "        else:\n",
    "            #print(data)\n",
    "            return False"
   ]
  },
  {
   "cell_type": "code",
   "execution_count": 9,
   "metadata": {},
   "outputs": [
    {
     "name": "stdout",
     "output_type": "stream",
     "text": [
      "2965\n"
     ]
    }
   ],
   "source": [
    "i = 0\n",
    "for data in df.iterrows():\n",
    "    if (isJisDai1Suijun(data)):\n",
    "        i = i + 1\n",
    "   \n",
    "print(i)\n",
    "#第一水準 2965\n"
   ]
  }
 ],
 "metadata": {
  "kernelspec": {
   "display_name": "Python 3",
   "language": "python",
   "name": "python3"
  },
  "language_info": {
   "codemirror_mode": {
    "name": "ipython",
    "version": 3
   },
   "file_extension": ".py",
   "mimetype": "text/x-python",
   "name": "python",
   "nbconvert_exporter": "python",
   "pygments_lexer": "ipython3",
   "version": "3.6.8"
  }
 },
 "nbformat": 4,
 "nbformat_minor": 2
}
